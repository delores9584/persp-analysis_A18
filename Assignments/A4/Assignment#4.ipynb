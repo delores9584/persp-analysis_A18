{
 "cells": [
  {
   "cell_type": "markdown",
   "metadata": {},
   "source": [
    "1."
   ]
  },
  {
   "cell_type": "markdown",
   "metadata": {},
   "source": [
    "(a) File attached in the folder A4. "
   ]
  },
  {
   "cell_type": "markdown",
   "metadata": {},
   "source": [
    "(b) I firstly used the code posted by Li in issues to filter out the invalid numbers in my list. There left 91 valid numbers. I called all 91 of them, and  11 responded according to the Response variable criteria. 189 did not responded. My response rate is 5.5%. "
   ]
  },
  {
   "cell_type": "markdown",
   "metadata": {},
   "source": [
    "(c) Among the 11 respondents, 8 answered the voting question, 7 of the 8 answered the age question while 1 answered only the voting question but not the age question."
   ]
  },
  {
   "cell_type": "markdown",
   "metadata": {},
   "source": [
    "(d) It was during Monday 5:30-6:30pm at Atlanda (404) when I called most of the numbers. 3 of them did not respond at the first place and called me back later. I think time does contribute to the low rate of response because it could be the time when people get together and have dinner with family or on their way back to home for dinner. I could have called during weekends to get a higher response rate. "
   ]
  },
  {
   "cell_type": "markdown",
   "metadata": {},
   "source": [
    "(e) The median age is 46.5,and the median age of Atlanda city based on the Factfinder table is 33.5. These two numbers do not match mainly because of the small sample size in this study. 7 respondents cannot be representative of the whole Atlanda population. Moreover, we did not include those under the age of 18 in our sample, and it, in turn, could bias our sample by overestimate the median age. The third reason for getting a median age higher than the state average is that retired, old people tend to answer telephone survey more often as they have more free time than people in college and at work. "
   ]
  },
  {
   "cell_type": "code",
   "execution_count": 5,
   "metadata": {},
   "outputs": [
    {
     "data": {
      "text/plain": [
       "46.5"
      ]
     },
     "execution_count": 5,
     "metadata": {},
     "output_type": "execute_result"
    }
   ],
   "source": [
    "import numpy as np\n",
    "Agelist = [65,62,58,23,35,27]\n",
    "np.median(Agelist)"
   ]
  },
  {
   "cell_type": "markdown",
   "metadata": {},
   "source": [
    "(f) According to the election results site, 56.88% voted for Republican (Trump) and 43.12% voted for Democrat (Clinton). However, 42.86% of my respondent voted for Republican and 57.12% voted for Democrat. This is opposite to the voting result in 2016 election. I do not think that the order I say would influence the results a lot, because the 2016 election is something that already happened, and I think if people decide to respond to the question, it is unlikely that they would choose to lie about what they have chosen back in 2016. However, I think if this survey is taken before the election, the testing order effect could be more influential in the final results of the poll. "
   ]
  },
  {
   "cell_type": "markdown",
   "metadata": {},
   "source": []
  }
 ],
 "metadata": {
  "kernelspec": {
   "display_name": "Python 3",
   "language": "python",
   "name": "python3"
  },
  "language_info": {
   "codemirror_mode": {
    "name": "ipython",
    "version": 3
   },
   "file_extension": ".py",
   "mimetype": "text/x-python",
   "name": "python",
   "nbconvert_exporter": "python",
   "pygments_lexer": "ipython3",
   "version": "3.7.0"
  }
 },
 "nbformat": 4,
 "nbformat_minor": 2
}
